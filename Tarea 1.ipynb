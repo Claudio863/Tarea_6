{
 "cells": [
  {
   "cell_type": "code",
   "execution_count": 134,
   "id": "5d50afa0-f6d0-4356-b22c-a9d988316ec8",
   "metadata": {},
   "outputs": [],
   "source": [
    "import numpy as np\n",
    "from numpy import *\n"
   ]
  },
  {
   "cell_type": "markdown",
   "id": "0ee39ff6-8294-489c-94fe-2abebfbf2e8f",
   "metadata": {
    "tags": []
   },
   "source": [
    "### 1) Creamos el array con las indicaciones\n"
   ]
  },
  {
   "cell_type": "code",
   "execution_count": 135,
   "id": "b6140e15-82f2-482c-a853-a22ce3f02538",
   "metadata": {},
   "outputs": [
    {
     "name": "stdout",
     "output_type": "stream",
     "text": [
      "[[11  4  7  7  5  4 10]\n",
      " [10  9  6  7  6 11  3]\n",
      " [ 4  7 10 10  5  3  9]\n",
      " [ 4  3  3  5 10  6 10]\n",
      " [ 7  6  3 11 10  4  5]]\n"
     ]
    }
   ],
   "source": [
    "array_e = np.random.randint(3, 12, size=(5,7)) \n",
    "\n",
    "print(array_e)"
   ]
  },
  {
   "cell_type": "markdown",
   "id": "e76c3aff-111a-413d-9f0d-3d735c00b639",
   "metadata": {},
   "source": [
    "a) Verificamos de que tipo de datos hay con funcion .dtype\n"
   ]
  },
  {
   "cell_type": "code",
   "execution_count": 136,
   "id": "4b7b7a59-e844-4ad5-89a2-9c1bd4ef44de",
   "metadata": {},
   "outputs": [
    {
     "name": "stdout",
     "output_type": "stream",
     "text": [
      "int64\n"
     ]
    }
   ],
   "source": [
    "print(array_e.dtype) \n",
    "\n"
   ]
  },
  {
   "cell_type": "markdown",
   "id": "ae2264c9-879e-447e-8f8e-8100d27745d8",
   "metadata": {},
   "source": [
    "b) con la funcion .max descubrimos valor máximo\n"
   ]
  },
  {
   "cell_type": "code",
   "execution_count": 13,
   "id": "e11df660-03c3-4d45-b580-96a57edcb2cd",
   "metadata": {},
   "outputs": [
    {
     "name": "stdout",
     "output_type": "stream",
     "text": [
      "11\n"
     ]
    }
   ],
   "source": [
    "valor_maximo = np.max(array_e)\n",
    "print(valor_maximo)"
   ]
  },
  {
   "cell_type": "code",
   "execution_count": 14,
   "id": "76043bd1-89e1-4628-8789-69161803afad",
   "metadata": {},
   "outputs": [
    {
     "name": "stdout",
     "output_type": "stream",
     "text": [
      "3\n"
     ]
    }
   ],
   "source": [
    "# c) \n",
    "valor_minimo=np.min(array_e)\n",
    "print(valor_minimo)"
   ]
  },
  {
   "cell_type": "markdown",
   "id": "b2734938-79e9-41ce-b280-5d8c54e38f4d",
   "metadata": {},
   "source": [
    "d) con np.where(condicion) encontramos los indices de los elementos con dicha condición.\n",
    "el formato que entrega esta funcion es de dos arrays, el primeto contiene la cordenada de las filas de cada elemento y el segundo indica las columnas."
   ]
  },
  {
   "cell_type": "code",
   "execution_count": 101,
   "id": "63f69735-7c0f-4269-9876-16674d29fc99",
   "metadata": {},
   "outputs": [
    {
     "name": "stdout",
     "output_type": "stream",
     "text": [
      "Los valores minimos de cada fila respectivamente son \n",
      "En fila 0 el elemento minimo es 6 y su indice en el array es [0,[4, 6]].\n",
      "En fila 1 el elemento minimo es 5 y su indice en el array es [1,2].\n",
      "En fila 2 el elemento minimo es 4 y su indice en el array es [2,1].\n",
      "En fila 3 el elemento minimo es 3 y su indice en el array es [3,0].\n",
      "En fila 4 el elemento minimo es 5 y su indice en el array es [4,[2, 6]].\n"
     ]
    }
   ],
   "source": [
    "cantidad_filas = array_e.shape[0] #Con función shape identificamos cantidad de filas\n",
    "lis_valmin=[]\n",
    "columna_i=[]                       #Creamos una matriz con dos columnas\n",
    "\n",
    "for i in range(cantidad_filas): #Creamos ciclo for para pasar por todas las filas\n",
    "    \n",
    "    valor_minimo=np.min(array_e[i])   #Valor mínimo de cada fila\n",
    "    indice=np.where(array_e[i] == valor_minimo)  #Cuál es el índice dentro de cada fila\n",
    "    \n",
    "    if len(indice[0]) == 1:              #Si se encuentra el número una vez, entonces agrega el único valor\n",
    "        columna_i.append(indice[0][0])\n",
    "        \n",
    "    else:                             # Si se repite, entonces se crea una lista en el elemento de columna\n",
    "        lis=[]\n",
    "        for l in range(len(indice[0])):  #La cual indica las diferentes posiciones dentro de las columnas\n",
    "            lis.append(indice[0][l])\n",
    "        columna_i.append(lis)\n",
    "            \n",
    "    lis_valmin.append(valor_minimo)\n",
    "    \n",
    "#Respuesta por consola :)    \n",
    "\n",
    "print('Los valores minimos de cada fila respectivamente son ')\n",
    "for i in range(len(lis_valmin)):\n",
    "    print('En fila '+ str(i) +' el elemento minimo es '+ str(lis_valmin[i]) +' y su indice en el array es ['+ str(i)+',' +str(columna_i[i])+'].')\n",
    "    \n",
    "    \n",
    "    "
   ]
  },
  {
   "cell_type": "markdown",
   "id": "80c409a7-f09c-4053-9bf7-f2c0ddc87532",
   "metadata": {},
   "source": [
    "### 2.\n",
    "Para crear un array de esas caracteristicas, ocupamos np.arange, donde indicamos el número por el cual debe partir y terminar, además del incremento que será 5"
   ]
  },
  {
   "cell_type": "code",
   "execution_count": 104,
   "id": "ad6f8336-755b-4630-bc73-19ea34675c47",
   "metadata": {},
   "outputs": [
    {
     "name": "stdout",
     "output_type": "stream",
     "text": [
      "[ 4  9 14 19 24 29 34 39 44 49 54 59 64 69 74 79 84 89 94 99]\n"
     ]
    }
   ],
   "source": [
    "\n",
    "array=np.arange(4, 100, 5)\n",
    "print(array)"
   ]
  },
  {
   "cell_type": "markdown",
   "id": "9f849c9f-aa0d-4849-b559-7abbd75b9efb",
   "metadata": {},
   "source": [
    "### 3.\n",
    "Ocuparemos el mismo array anteriormente declarado y le aplicaremos la función reshape. Ésta utiliza los mismos datos con el mismo patrón y le cambia la dimensión a dicho array."
   ]
  },
  {
   "cell_type": "code",
   "execution_count": 105,
   "id": "656b4406-5a2f-4e73-97de-26e25b786665",
   "metadata": {},
   "outputs": [
    {
     "name": "stdout",
     "output_type": "stream",
     "text": [
      "[[ 4  9 14 19 24]\n",
      " [29 34 39 44 49]\n",
      " [54 59 64 69 74]\n",
      " [79 84 89 94 99]]\n"
     ]
    }
   ],
   "source": [
    "#arr_reshaped = arr.reshape(4, 3)\n",
    "array_resh= array.reshape(4,5)\n",
    "print(array_resh)"
   ]
  },
  {
   "cell_type": "markdown",
   "id": "5278935a-0387-4334-a8c0-4efdd88db762",
   "metadata": {},
   "source": [
    "### 4. \n",
    "Con el compando np.random hacemos un array con distintas dimensiones (en este caso 3) y con . normal, hacemos que la distribución sea normal (con escala de 1)."
   ]
  },
  {
   "cell_type": "code",
   "execution_count": 116,
   "id": "17095a86-89e1-4b90-ab6a-99be0c6e8065",
   "metadata": {},
   "outputs": [
    {
     "name": "stdout",
     "output_type": "stream",
     "text": [
      "[[[-0.72782345  1.94541742  1.54080643]\n",
      "  [-0.66656893  0.27874864  0.26438218]]\n",
      "\n",
      " [[-0.66598538 -0.76301756 -1.05059152]\n",
      "  [-1.25050292  0.16453793 -1.82031933]]\n",
      "\n",
      " [[ 0.0368164   0.47962179  1.29304339]\n",
      "  [ 1.12823014 -1.272175    0.93791373]]\n",
      "\n",
      " [[ 0.20919702 -0.7098197   0.89612125]\n",
      "  [ 0.07501978  1.05049023 -0.38242327]]]\n"
     ]
    }
   ],
   "source": [
    "# crear un numpy array de 4 por 2 por 3 con valores normalmente distribuidos\n",
    "arr = np.random.normal(loc=0, scale=1, size=(4, 2, 3))\n",
    "print(arr)"
   ]
  },
  {
   "cell_type": "markdown",
   "id": "94e99e9d-0170-4c70-b5da-158a388d8459",
   "metadata": {},
   "source": [
    "### 5.\n",
    "Ocupamos la función np.eye que nos crea una matriz identidad, le cual en el argumento le indicamos las dimensiones y el desfase vertical de -2"
   ]
  },
  {
   "cell_type": "code",
   "execution_count": 107,
   "id": "75738b39-2777-4fc7-8f77-42a1d924cf30",
   "metadata": {},
   "outputs": [
    {
     "name": "stdout",
     "output_type": "stream",
     "text": [
      "[[0 0 0 0 0 0]\n",
      " [0 0 0 0 0 0]\n",
      " [1 0 0 0 0 0]\n",
      " [0 1 0 0 0 0]\n",
      " [0 0 1 0 0 0]\n",
      " [0 0 0 1 0 0]]\n"
     ]
    }
   ],
   "source": [
    "diag = np.eye(6, k=-2)\n",
    "diag = diag.astype(int) #Le cambiamo el tipo de datos\n",
    "print(diag)"
   ]
  },
  {
   "cell_type": "markdown",
   "id": "87e97032-e8e0-4a2f-b5b3-1dff78af747d",
   "metadata": {},
   "source": [
    "### 6.\n",
    "\n"
   ]
  },
  {
   "cell_type": "code",
   "execution_count": 114,
   "id": "7e9ca5be-7488-4deb-88c4-872bcc4d48fe",
   "metadata": {},
   "outputs": [
    {
     "name": "stdout",
     "output_type": "stream",
     "text": [
      "[27 29 31 33]\n"
     ]
    }
   ],
   "source": [
    "array=np.arange(3,34,2)\n",
    "#a) Seleccionas ultimos 4\n",
    "ul_4 = array[-4:]\n",
    "print(ul_4)\n"
   ]
  },
  {
   "cell_type": "code",
   "execution_count": 112,
   "id": "e7ed1ffb-1a48-4cb3-a949-6ca66cb74ed1",
   "metadata": {},
   "outputs": [
    {
     "name": "stdout",
     "output_type": "stream",
     "text": [
      "[ 3  9 15 21 27 33]\n"
     ]
    }
   ],
   "source": [
    "#b) Usamos % para seleccionar multiplos\n",
    "\n",
    "mul_3 = array[np.where(array % 3 == 0)]\n",
    "\n",
    "print(mul_3)"
   ]
  },
  {
   "cell_type": "markdown",
   "id": "27992a92-55a7-4f04-8120-15938ead74d6",
   "metadata": {},
   "source": [
    "### 7. "
   ]
  },
  {
   "cell_type": "code",
   "execution_count": 117,
   "id": "dfd4ff08-9983-46bb-843f-64f6963b06c1",
   "metadata": {},
   "outputs": [
    {
     "name": "stdout",
     "output_type": "stream",
     "text": [
      "72\n"
     ]
    }
   ],
   "source": [
    "arr_2d=np.array([[69, 75, 52, 33,  7, 62, 22],\n",
    "               [87, 51, 13, 75, 78, 46, 53],\n",
    "               [43, 24, 58, 76,  3,  3, 57],\n",
    "               [84, 86, 75, 26, 71, 77,  7],\n",
    "               [75, 17, 17, 38, 54, 72, 78]])\n",
    "\n"
   ]
  },
  {
   "cell_type": "code",
   "execution_count": 118,
   "id": "8e11632e-3f7f-4b68-9a3f-25c643becb1f",
   "metadata": {},
   "outputs": [],
   "source": [
    "# a) con el simbolo \"-\" podemos indicar el indice desde la perspectiva opuesta\n",
    "\n",
    "valor=arr_2d[-1, -2]\n",
    "print(valor)\n"
   ]
  },
  {
   "cell_type": "code",
   "execution_count": 120,
   "id": "3f00630a-f0a2-4d4e-8b6c-24a7a711399b",
   "metadata": {},
   "outputs": [
    {
     "name": "stdout",
     "output_type": "stream",
     "text": [
      "[[76  3  3]\n",
      " [26 71 77]\n",
      " [38 54 72]]\n"
     ]
    }
   ],
   "source": [
    "# b) debido a que el subarray se encuentra entre las posiciones de fila 2,3 y 4, además de posición de columna\n",
    "#3,4 y 5. damos las indicaciones de la siguiente manera\n",
    "\n",
    "s_array=arr_2d[2:5, 3:6]\n",
    "print(s_array)"
   ]
  },
  {
   "cell_type": "code",
   "execution_count": 122,
   "id": "096f3a4b-a6b6-4563-9ed5-1591dae29d76",
   "metadata": {},
   "outputs": [
    {
     "name": "stdout",
     "output_type": "stream",
     "text": [
      "[[87 51 13 75 78 46 53]\n",
      " [43 24 58 76  3  3 57]\n",
      " [84 86 75 26 71 77  7]]\n"
     ]
    }
   ],
   "source": [
    "#c) el siguiente array contempla las filas 1, 2 y 3 con todas las columnas.\n",
    "\n",
    "s_array= arr_2d[1:4,:]\n",
    "print(s_array)"
   ]
  },
  {
   "cell_type": "markdown",
   "id": "a5b1c86c-8466-4234-8f63-fb8ee124b052",
   "metadata": {},
   "source": [
    "### 8"
   ]
  },
  {
   "cell_type": "code",
   "execution_count": 125,
   "id": "0eff47e2-51a9-48f5-b9e0-f4c76ddd5e05",
   "metadata": {},
   "outputs": [
    {
     "name": "stdout",
     "output_type": "stream",
     "text": [
      "[ 1  4  7 10 13 16 19 22 25 28 31 34 37 40 43 46 49]\n"
     ]
    }
   ],
   "source": [
    "arr=np.arange(1,50,3)\n",
    "print(arr)"
   ]
  },
  {
   "cell_type": "code",
   "execution_count": null,
   "id": "1fc39c12-c625-4078-beec-70512666e5e8",
   "metadata": {},
   "outputs": [],
   "source": [
    "#a)\n",
    "arr0=arr[(arr > 7) & (arr < 43)] #Ocupamos & (y lógico) que concatena dos condiciones\n",
    "print(arr0)"
   ]
  },
  {
   "cell_type": "code",
   "execution_count": 127,
   "id": "197f9831-d39b-424d-bef3-0c2203a1f719",
   "metadata": {},
   "outputs": [
    {
     "name": "stdout",
     "output_type": "stream",
     "text": [
      "[16 22 28 34 40]\n"
     ]
    }
   ],
   "source": [
    "#b) En este caso agregamos una nueva condición en donde indicamos que debe ser multiplos de 2 o par\n",
    "arr0=arr[(arr > 11) & (arr < 45) & (arr % 2 == 0)]\n",
    "print(arr0)"
   ]
  },
  {
   "cell_type": "markdown",
   "id": "165bcedb-9e23-40c1-aa27-162b0201546c",
   "metadata": {},
   "source": [
    "### 9"
   ]
  },
  {
   "cell_type": "code",
   "execution_count": 130,
   "id": "70ef4dc3-b714-4544-86a7-97f2a017af56",
   "metadata": {},
   "outputs": [
    {
     "name": "stdout",
     "output_type": "stream",
     "text": [
      "[0.27765031 0.80207361 0.49587817 0.75163606 0.84373216 0.67903527\n",
      " 0.63575738 0.00737381 0.66949786 0.65733072 0.43313323 0.49967879\n",
      " 0.22297705 0.66567917 0.55580311 0.29998656 0.52104675 0.01950172\n",
      " 0.55392464 0.18818912]\n",
      "\n",
      "Media: 0.48899427359695\n",
      "Desviación estándar: 0.23975393064405798\n",
      "Mediana: 0.537485697037986\n",
      "Media de los valores en log: -1.0654563668237413\n"
     ]
    }
   ],
   "source": [
    "# Crear un 1D array uniformemente distribuido con 20 elementos\n",
    "arr = np.random.uniform(size=20)\n",
    "print(arr)\n",
    "print('')\n",
    "# Calcular la media\n",
    "mean = np.mean(arr)\n",
    "print(\"Media:\", mean)\n",
    "\n",
    "# Calcular la desviación estándar\n",
    "std = np.std(arr)\n",
    "print(\"Desviación estándar:\", std)\n",
    "\n",
    "# Calcular la mediana\n",
    "median = np.median(arr)\n",
    "print(\"Mediana:\", median)\n",
    "\n",
    "# Calcular la media de los valores en log\n",
    "mean_log = np.mean(np.log(arr))\n",
    "print(\"Media de los valores en log:\", mean_log)\n",
    "\n"
   ]
  },
  {
   "cell_type": "markdown",
   "id": "45df275f-a850-4ad7-b4b4-613c8af25e00",
   "metadata": {},
   "source": [
    "### 10"
   ]
  },
  {
   "cell_type": "code",
   "execution_count": 131,
   "id": "d09a8dcd-bfb8-48c1-bcce-30b17ed143ca",
   "metadata": {},
   "outputs": [
    {
     "name": "stdout",
     "output_type": "stream",
     "text": [
      "[23. 21. 19. 17. 15. 13. 11.  9.  7.  5.  3.  1.]\n"
     ]
    }
   ],
   "source": [
    "# a) ocupamos np.flip para invertir el arreglo y .astype para cambiar el formato de los datos\n",
    "def imprimir_invertido(arr):\n",
    "    arr_inv = np.flip(arr).astype(float)\n",
    "    print(arr_inv)\n",
    "ej=np.array([ 1,  3,  5,  7,  9, 11, 13, 15, 17, 19, 21, 23])\n",
    "\n",
    "imprimir_invertido(ej)"
   ]
  },
  {
   "cell_type": "code",
   "execution_count": 132,
   "id": "e0380aed-5d48-4c1b-94a4-43a7dc4f1afe",
   "metadata": {},
   "outputs": [
    {
     "name": "stdout",
     "output_type": "stream",
     "text": [
      "[7 4 8 3 6 3 4 3 4 7 5 4]\n"
     ]
    }
   ],
   "source": [
    "# b) flatten lo que hace es llevar el array de cualquier dimension y lo transforma a una\n",
    "def imprimir1D(arr):\n",
    "    arr0 = arr.flatten()\n",
    "    print(arr0)\n",
    "    \n",
    "ej=np.array([[7, 4, 8, 3],\n",
    "       [6, 3, 4, 3],\n",
    "       [4, 7, 5, 4]])\n",
    "\n",
    "imprimir1D(ej)"
   ]
  },
  {
   "cell_type": "code",
   "execution_count": null,
   "id": "217d893b-6a1e-43be-96c2-6eeca474a9b0",
   "metadata": {},
   "outputs": [],
   "source": []
  }
 ],
 "metadata": {
  "kernelspec": {
   "display_name": "Python 3 (ipykernel)",
   "language": "python",
   "name": "python3"
  },
  "language_info": {
   "codemirror_mode": {
    "name": "ipython",
    "version": 3
   },
   "file_extension": ".py",
   "mimetype": "text/x-python",
   "name": "python",
   "nbconvert_exporter": "python",
   "pygments_lexer": "ipython3",
   "version": "3.9.7"
  }
 },
 "nbformat": 4,
 "nbformat_minor": 5
}
